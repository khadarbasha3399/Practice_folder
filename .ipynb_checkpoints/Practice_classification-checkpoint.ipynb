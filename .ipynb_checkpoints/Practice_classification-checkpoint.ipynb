{
 "cells": [
  {
   "cell_type": "markdown",
   "metadata": {},
   "source": [
    "# Visualizing Data for Classification\n",
    "\n",
    "In the previous lab, you explored the automotive price dataset to understand the relationships for a regression problem. In this lab you will explore the German bank credit dataset to understand the relationships for a **classification** problem. The difference being, that in classification problems the label is a categorical variable. \n",
    "\n",
    "In other labs you will use what you learn through visualization to create a solution that predicts the customers with bad credit. For now, the focus of this lab is on visually exploring the data to determine which features may be useful in predicting customer's bad credit.\n",
    "\n",
    "Visualization for classification problems shares much in common with visualization for regression problems. Colinear features should be identified so they can be eliminated or otherwise dealt with. However, for classification problems you are looking for features that help **separate the label categories**. Separation is achieved when there are distinctive feature values for each label category. Good separation results in low classification error rate."
   ]
  },
  {
   "cell_type": "markdown",
   "metadata": {},
   "source": [
    "## Load and prepare the data set\n",
    "\n",
    "As a first step you must load the dataset. \n",
    "\n",
    "Execute the code in the cell below to load the packages required for the rest of this notebook."
   ]
  },
  {
   "cell_type": "code",
   "execution_count": 1,
   "metadata": {},
   "outputs": [],
   "source": [
    "import pandas as pd\n",
    "import matplotlib.pyplot as plt\n",
    "import seaborn as sns\n",
    "import numpy as np\n",
    "import numpy.random as nr\n",
    "import math\n",
    "from sklearn import preprocessing \n",
    "from sklearn import model_selection as ms\n",
    "from sklearn.linear_model import LogisticRegression\n",
    "from sklearn.metrics import confusion_matrix\n",
    "from sklearn.metrics import precision_recall_fscore_support\n",
    "import sklearn.metrics as sklm\n",
    "%matplotlib inline"
   ]
  },
  {
   "cell_type": "markdown",
   "metadata": {},
   "source": [
    "The code in the cell below loads the dataset and assigns human-readable names to the columns. The shape and head of the data frame are then printed. Execute this code:"
   ]
  },
  {
   "cell_type": "code",
   "execution_count": 2,
   "metadata": {},
   "outputs": [
    {
     "name": "stdout",
     "output_type": "stream",
     "text": [
      "(1012, 22)\n"
     ]
    },
    {
     "data": {
      "text/html": [
       "<div>\n",
       "<style scoped>\n",
       "    .dataframe tbody tr th:only-of-type {\n",
       "        vertical-align: middle;\n",
       "    }\n",
       "\n",
       "    .dataframe tbody tr th {\n",
       "        vertical-align: top;\n",
       "    }\n",
       "\n",
       "    .dataframe thead th {\n",
       "        text-align: right;\n",
       "    }\n",
       "</style>\n",
       "<table border=\"1\" class=\"dataframe\">\n",
       "  <thead>\n",
       "    <tr style=\"text-align: right;\">\n",
       "      <th></th>\n",
       "      <th>customer_id</th>\n",
       "      <th>checking_account_status</th>\n",
       "      <th>loan_duration_mo</th>\n",
       "      <th>credit_history</th>\n",
       "      <th>purpose</th>\n",
       "      <th>loan_amount</th>\n",
       "      <th>savings_account_balance</th>\n",
       "      <th>time_employed_yrs</th>\n",
       "      <th>payment_pcnt_income</th>\n",
       "      <th>gender_status</th>\n",
       "      <th>...</th>\n",
       "      <th>property</th>\n",
       "      <th>age_yrs</th>\n",
       "      <th>other_credit_outstanding</th>\n",
       "      <th>home_ownership</th>\n",
       "      <th>number_loans</th>\n",
       "      <th>job_category</th>\n",
       "      <th>dependents</th>\n",
       "      <th>telephone</th>\n",
       "      <th>foreign_worker</th>\n",
       "      <th>bad_credit</th>\n",
       "    </tr>\n",
       "  </thead>\n",
       "  <tbody>\n",
       "    <tr>\n",
       "      <th>0</th>\n",
       "      <td>1122334</td>\n",
       "      <td>A11</td>\n",
       "      <td>6</td>\n",
       "      <td>A34</td>\n",
       "      <td>A43</td>\n",
       "      <td>1169</td>\n",
       "      <td>A65</td>\n",
       "      <td>A75</td>\n",
       "      <td>4</td>\n",
       "      <td>A93</td>\n",
       "      <td>...</td>\n",
       "      <td>A121</td>\n",
       "      <td>67</td>\n",
       "      <td>A143</td>\n",
       "      <td>A152</td>\n",
       "      <td>2</td>\n",
       "      <td>A173</td>\n",
       "      <td>1</td>\n",
       "      <td>A192</td>\n",
       "      <td>A201</td>\n",
       "      <td>1</td>\n",
       "    </tr>\n",
       "    <tr>\n",
       "      <th>1</th>\n",
       "      <td>6156361</td>\n",
       "      <td>A12</td>\n",
       "      <td>48</td>\n",
       "      <td>A32</td>\n",
       "      <td>A43</td>\n",
       "      <td>5951</td>\n",
       "      <td>A61</td>\n",
       "      <td>A73</td>\n",
       "      <td>2</td>\n",
       "      <td>A92</td>\n",
       "      <td>...</td>\n",
       "      <td>A121</td>\n",
       "      <td>22</td>\n",
       "      <td>A143</td>\n",
       "      <td>A152</td>\n",
       "      <td>1</td>\n",
       "      <td>A173</td>\n",
       "      <td>1</td>\n",
       "      <td>A191</td>\n",
       "      <td>A201</td>\n",
       "      <td>2</td>\n",
       "    </tr>\n",
       "    <tr>\n",
       "      <th>2</th>\n",
       "      <td>2051359</td>\n",
       "      <td>A14</td>\n",
       "      <td>12</td>\n",
       "      <td>A34</td>\n",
       "      <td>A46</td>\n",
       "      <td>2096</td>\n",
       "      <td>A61</td>\n",
       "      <td>A74</td>\n",
       "      <td>2</td>\n",
       "      <td>A93</td>\n",
       "      <td>...</td>\n",
       "      <td>A121</td>\n",
       "      <td>49</td>\n",
       "      <td>A143</td>\n",
       "      <td>A152</td>\n",
       "      <td>1</td>\n",
       "      <td>A172</td>\n",
       "      <td>2</td>\n",
       "      <td>A191</td>\n",
       "      <td>A201</td>\n",
       "      <td>1</td>\n",
       "    </tr>\n",
       "    <tr>\n",
       "      <th>3</th>\n",
       "      <td>8740590</td>\n",
       "      <td>A11</td>\n",
       "      <td>42</td>\n",
       "      <td>A32</td>\n",
       "      <td>A42</td>\n",
       "      <td>7882</td>\n",
       "      <td>A61</td>\n",
       "      <td>A74</td>\n",
       "      <td>2</td>\n",
       "      <td>A93</td>\n",
       "      <td>...</td>\n",
       "      <td>A122</td>\n",
       "      <td>45</td>\n",
       "      <td>A143</td>\n",
       "      <td>A153</td>\n",
       "      <td>1</td>\n",
       "      <td>A173</td>\n",
       "      <td>2</td>\n",
       "      <td>A191</td>\n",
       "      <td>A201</td>\n",
       "      <td>1</td>\n",
       "    </tr>\n",
       "    <tr>\n",
       "      <th>4</th>\n",
       "      <td>3924540</td>\n",
       "      <td>A11</td>\n",
       "      <td>24</td>\n",
       "      <td>A33</td>\n",
       "      <td>A40</td>\n",
       "      <td>4870</td>\n",
       "      <td>A61</td>\n",
       "      <td>A73</td>\n",
       "      <td>3</td>\n",
       "      <td>A93</td>\n",
       "      <td>...</td>\n",
       "      <td>A124</td>\n",
       "      <td>53</td>\n",
       "      <td>A143</td>\n",
       "      <td>A153</td>\n",
       "      <td>2</td>\n",
       "      <td>A173</td>\n",
       "      <td>2</td>\n",
       "      <td>A191</td>\n",
       "      <td>A201</td>\n",
       "      <td>2</td>\n",
       "    </tr>\n",
       "  </tbody>\n",
       "</table>\n",
       "<p>5 rows × 22 columns</p>\n",
       "</div>"
      ],
      "text/plain": [
       "   customer_id checking_account_status  loan_duration_mo credit_history  \\\n",
       "0      1122334                     A11                 6            A34   \n",
       "1      6156361                     A12                48            A32   \n",
       "2      2051359                     A14                12            A34   \n",
       "3      8740590                     A11                42            A32   \n",
       "4      3924540                     A11                24            A33   \n",
       "\n",
       "  purpose  loan_amount savings_account_balance time_employed_yrs  \\\n",
       "0     A43         1169                     A65               A75   \n",
       "1     A43         5951                     A61               A73   \n",
       "2     A46         2096                     A61               A74   \n",
       "3     A42         7882                     A61               A74   \n",
       "4     A40         4870                     A61               A73   \n",
       "\n",
       "   payment_pcnt_income gender_status    ...     property  age_yrs  \\\n",
       "0                    4           A93    ...         A121       67   \n",
       "1                    2           A92    ...         A121       22   \n",
       "2                    2           A93    ...         A121       49   \n",
       "3                    2           A93    ...         A122       45   \n",
       "4                    3           A93    ...         A124       53   \n",
       "\n",
       "  other_credit_outstanding  home_ownership number_loans job_category  \\\n",
       "0                     A143            A152            2         A173   \n",
       "1                     A143            A152            1         A173   \n",
       "2                     A143            A152            1         A172   \n",
       "3                     A143            A153            1         A173   \n",
       "4                     A143            A153            2         A173   \n",
       "\n",
       "   dependents telephone  foreign_worker bad_credit  \n",
       "0           1      A192            A201          1  \n",
       "1           1      A191            A201          2  \n",
       "2           2      A191            A201          1  \n",
       "3           2      A191            A201          1  \n",
       "4           2      A191            A201          2  \n",
       "\n",
       "[5 rows x 22 columns]"
      ]
     },
     "execution_count": 2,
     "metadata": {},
     "output_type": "execute_result"
    }
   ],
   "source": [
    "credit = pd.read_csv('/Users/khadarbashashaik/Desktop/Principles-of-Machine-Learning-Python-master/Module2/German_Credit.csv', header=None)\n",
    "credit.columns = ['customer_id',\n",
    "                  'checking_account_status', 'loan_duration_mo', 'credit_history', \n",
    "                  'purpose', 'loan_amount', 'savings_account_balance', \n",
    "                  'time_employed_yrs', 'payment_pcnt_income','gender_status', \n",
    "                  'other_signators', 'time_in_residence', 'property', 'age_yrs',\n",
    "                  'other_credit_outstanding', 'home_ownership', 'number_loans', \n",
    "                  'job_category', 'dependents', 'telephone', 'foreign_worker', \n",
    "                  'bad_credit']\n",
    "print(credit.shape)\n",
    "credit.head()"
   ]
  },
  {
   "cell_type": "code",
   "execution_count": 3,
   "metadata": {},
   "outputs": [
    {
     "data": {
      "text/plain": [
       "(1000, 22)"
      ]
     },
     "execution_count": 3,
     "metadata": {},
     "output_type": "execute_result"
    }
   ],
   "source": [
    "credit.drop_duplicates(subset='customer_id',keep='first',inplace= True)\n",
    "credit.shape\n",
    "\n"
   ]
  },
  {
   "cell_type": "markdown",
   "metadata": {},
   "source": [
    "There are 1011 rows and 22 columns in the dataset. The first column is customer_id, which is an identifier. We will drop this since this is not a feature."
   ]
  },
  {
   "cell_type": "code",
   "execution_count": 4,
   "metadata": {},
   "outputs": [
    {
     "name": "stdout",
     "output_type": "stream",
     "text": [
      "(1000, 21)\n"
     ]
    },
    {
     "data": {
      "text/html": [
       "<div>\n",
       "<style scoped>\n",
       "    .dataframe tbody tr th:only-of-type {\n",
       "        vertical-align: middle;\n",
       "    }\n",
       "\n",
       "    .dataframe tbody tr th {\n",
       "        vertical-align: top;\n",
       "    }\n",
       "\n",
       "    .dataframe thead th {\n",
       "        text-align: right;\n",
       "    }\n",
       "</style>\n",
       "<table border=\"1\" class=\"dataframe\">\n",
       "  <thead>\n",
       "    <tr style=\"text-align: right;\">\n",
       "      <th></th>\n",
       "      <th>checking_account_status</th>\n",
       "      <th>loan_duration_mo</th>\n",
       "      <th>credit_history</th>\n",
       "      <th>purpose</th>\n",
       "      <th>loan_amount</th>\n",
       "      <th>savings_account_balance</th>\n",
       "      <th>time_employed_yrs</th>\n",
       "      <th>payment_pcnt_income</th>\n",
       "      <th>gender_status</th>\n",
       "      <th>other_signators</th>\n",
       "      <th>...</th>\n",
       "      <th>property</th>\n",
       "      <th>age_yrs</th>\n",
       "      <th>other_credit_outstanding</th>\n",
       "      <th>home_ownership</th>\n",
       "      <th>number_loans</th>\n",
       "      <th>job_category</th>\n",
       "      <th>dependents</th>\n",
       "      <th>telephone</th>\n",
       "      <th>foreign_worker</th>\n",
       "      <th>bad_credit</th>\n",
       "    </tr>\n",
       "  </thead>\n",
       "  <tbody>\n",
       "    <tr>\n",
       "      <th>0</th>\n",
       "      <td>A11</td>\n",
       "      <td>6</td>\n",
       "      <td>A34</td>\n",
       "      <td>A43</td>\n",
       "      <td>1169</td>\n",
       "      <td>A65</td>\n",
       "      <td>A75</td>\n",
       "      <td>4</td>\n",
       "      <td>A93</td>\n",
       "      <td>A101</td>\n",
       "      <td>...</td>\n",
       "      <td>A121</td>\n",
       "      <td>67</td>\n",
       "      <td>A143</td>\n",
       "      <td>A152</td>\n",
       "      <td>2</td>\n",
       "      <td>A173</td>\n",
       "      <td>1</td>\n",
       "      <td>A192</td>\n",
       "      <td>A201</td>\n",
       "      <td>1</td>\n",
       "    </tr>\n",
       "    <tr>\n",
       "      <th>1</th>\n",
       "      <td>A12</td>\n",
       "      <td>48</td>\n",
       "      <td>A32</td>\n",
       "      <td>A43</td>\n",
       "      <td>5951</td>\n",
       "      <td>A61</td>\n",
       "      <td>A73</td>\n",
       "      <td>2</td>\n",
       "      <td>A92</td>\n",
       "      <td>A101</td>\n",
       "      <td>...</td>\n",
       "      <td>A121</td>\n",
       "      <td>22</td>\n",
       "      <td>A143</td>\n",
       "      <td>A152</td>\n",
       "      <td>1</td>\n",
       "      <td>A173</td>\n",
       "      <td>1</td>\n",
       "      <td>A191</td>\n",
       "      <td>A201</td>\n",
       "      <td>2</td>\n",
       "    </tr>\n",
       "    <tr>\n",
       "      <th>2</th>\n",
       "      <td>A14</td>\n",
       "      <td>12</td>\n",
       "      <td>A34</td>\n",
       "      <td>A46</td>\n",
       "      <td>2096</td>\n",
       "      <td>A61</td>\n",
       "      <td>A74</td>\n",
       "      <td>2</td>\n",
       "      <td>A93</td>\n",
       "      <td>A101</td>\n",
       "      <td>...</td>\n",
       "      <td>A121</td>\n",
       "      <td>49</td>\n",
       "      <td>A143</td>\n",
       "      <td>A152</td>\n",
       "      <td>1</td>\n",
       "      <td>A172</td>\n",
       "      <td>2</td>\n",
       "      <td>A191</td>\n",
       "      <td>A201</td>\n",
       "      <td>1</td>\n",
       "    </tr>\n",
       "    <tr>\n",
       "      <th>3</th>\n",
       "      <td>A11</td>\n",
       "      <td>42</td>\n",
       "      <td>A32</td>\n",
       "      <td>A42</td>\n",
       "      <td>7882</td>\n",
       "      <td>A61</td>\n",
       "      <td>A74</td>\n",
       "      <td>2</td>\n",
       "      <td>A93</td>\n",
       "      <td>A103</td>\n",
       "      <td>...</td>\n",
       "      <td>A122</td>\n",
       "      <td>45</td>\n",
       "      <td>A143</td>\n",
       "      <td>A153</td>\n",
       "      <td>1</td>\n",
       "      <td>A173</td>\n",
       "      <td>2</td>\n",
       "      <td>A191</td>\n",
       "      <td>A201</td>\n",
       "      <td>1</td>\n",
       "    </tr>\n",
       "    <tr>\n",
       "      <th>4</th>\n",
       "      <td>A11</td>\n",
       "      <td>24</td>\n",
       "      <td>A33</td>\n",
       "      <td>A40</td>\n",
       "      <td>4870</td>\n",
       "      <td>A61</td>\n",
       "      <td>A73</td>\n",
       "      <td>3</td>\n",
       "      <td>A93</td>\n",
       "      <td>A101</td>\n",
       "      <td>...</td>\n",
       "      <td>A124</td>\n",
       "      <td>53</td>\n",
       "      <td>A143</td>\n",
       "      <td>A153</td>\n",
       "      <td>2</td>\n",
       "      <td>A173</td>\n",
       "      <td>2</td>\n",
       "      <td>A191</td>\n",
       "      <td>A201</td>\n",
       "      <td>2</td>\n",
       "    </tr>\n",
       "  </tbody>\n",
       "</table>\n",
       "<p>5 rows × 21 columns</p>\n",
       "</div>"
      ],
      "text/plain": [
       "  checking_account_status  loan_duration_mo credit_history purpose  \\\n",
       "0                     A11                 6            A34     A43   \n",
       "1                     A12                48            A32     A43   \n",
       "2                     A14                12            A34     A46   \n",
       "3                     A11                42            A32     A42   \n",
       "4                     A11                24            A33     A40   \n",
       "\n",
       "   loan_amount savings_account_balance time_employed_yrs  payment_pcnt_income  \\\n",
       "0         1169                     A65               A75                    4   \n",
       "1         5951                     A61               A73                    2   \n",
       "2         2096                     A61               A74                    2   \n",
       "3         7882                     A61               A74                    2   \n",
       "4         4870                     A61               A73                    3   \n",
       "\n",
       "  gender_status other_signators    ...      property age_yrs  \\\n",
       "0           A93            A101    ...          A121      67   \n",
       "1           A92            A101    ...          A121      22   \n",
       "2           A93            A101    ...          A121      49   \n",
       "3           A93            A103    ...          A122      45   \n",
       "4           A93            A101    ...          A124      53   \n",
       "\n",
       "   other_credit_outstanding home_ownership number_loans  job_category  \\\n",
       "0                      A143           A152            2          A173   \n",
       "1                      A143           A152            1          A173   \n",
       "2                      A143           A152            1          A172   \n",
       "3                      A143           A153            1          A173   \n",
       "4                      A143           A153            2          A173   \n",
       "\n",
       "  dependents  telephone foreign_worker bad_credit  \n",
       "0          1       A192           A201          1  \n",
       "1          1       A191           A201          2  \n",
       "2          2       A191           A201          1  \n",
       "3          2       A191           A201          1  \n",
       "4          2       A191           A201          2  \n",
       "\n",
       "[5 rows x 21 columns]"
      ]
     },
     "execution_count": 4,
     "metadata": {},
     "output_type": "execute_result"
    }
   ],
   "source": [
    "credit.drop(['customer_id'], axis=1, inplace=True)\n",
    "print(credit.shape)\n",
    "credit.head()"
   ]
  },
  {
   "cell_type": "markdown",
   "metadata": {},
   "source": [
    "Now, there are 21 columns left. Of the 21 columns, there are 20 features plus a label column. These features represent information a bank might have on its customers. There are both numeric and categorical features. However, the categorical features are coded in a way that makes them hard to understand. Further, the label is coded as $\\{ 1,2 \\}$ which is a bit awkward. \n",
    "\n",
    "The code in the cell below using a list of dictionaries to recode the categorical features with human-readable text. The final dictionary in the list recodes good and bad credit as a binary variable, $\\{ 0,1 \\}$. The `for` loop iterates over the columns and maps codes to human-readable category names. Having human readable coding of data greatly improves peoples' ability to understand the relationships in the data.\n",
    "\n",
    "Execute this code and examine the result: "
   ]
  },
  {
   "cell_type": "code",
   "execution_count": 5,
   "metadata": {
    "scrolled": false
   },
   "outputs": [
    {
     "data": {
      "text/html": [
       "<div>\n",
       "<style scoped>\n",
       "    .dataframe tbody tr th:only-of-type {\n",
       "        vertical-align: middle;\n",
       "    }\n",
       "\n",
       "    .dataframe tbody tr th {\n",
       "        vertical-align: top;\n",
       "    }\n",
       "\n",
       "    .dataframe thead th {\n",
       "        text-align: right;\n",
       "    }\n",
       "</style>\n",
       "<table border=\"1\" class=\"dataframe\">\n",
       "  <thead>\n",
       "    <tr style=\"text-align: right;\">\n",
       "      <th></th>\n",
       "      <th>checking_account_status</th>\n",
       "      <th>loan_duration_mo</th>\n",
       "      <th>credit_history</th>\n",
       "      <th>purpose</th>\n",
       "      <th>loan_amount</th>\n",
       "      <th>savings_account_balance</th>\n",
       "      <th>time_employed_yrs</th>\n",
       "      <th>payment_pcnt_income</th>\n",
       "      <th>gender_status</th>\n",
       "      <th>other_signators</th>\n",
       "      <th>...</th>\n",
       "      <th>property</th>\n",
       "      <th>age_yrs</th>\n",
       "      <th>other_credit_outstanding</th>\n",
       "      <th>home_ownership</th>\n",
       "      <th>number_loans</th>\n",
       "      <th>job_category</th>\n",
       "      <th>dependents</th>\n",
       "      <th>telephone</th>\n",
       "      <th>foreign_worker</th>\n",
       "      <th>bad_credit</th>\n",
       "    </tr>\n",
       "  </thead>\n",
       "  <tbody>\n",
       "    <tr>\n",
       "      <th>0</th>\n",
       "      <td>&lt; 0 DM</td>\n",
       "      <td>6</td>\n",
       "      <td>critical account - other non-bank loans</td>\n",
       "      <td>radio/television</td>\n",
       "      <td>1169</td>\n",
       "      <td>unknown/none</td>\n",
       "      <td>&gt;= 7 years</td>\n",
       "      <td>4</td>\n",
       "      <td>male-single</td>\n",
       "      <td>none</td>\n",
       "      <td>...</td>\n",
       "      <td>real estate</td>\n",
       "      <td>67</td>\n",
       "      <td>none</td>\n",
       "      <td>own</td>\n",
       "      <td>2</td>\n",
       "      <td>skilled</td>\n",
       "      <td>1</td>\n",
       "      <td>yes</td>\n",
       "      <td>yes</td>\n",
       "      <td>0</td>\n",
       "    </tr>\n",
       "    <tr>\n",
       "      <th>1</th>\n",
       "      <td>0 - 200 DM</td>\n",
       "      <td>48</td>\n",
       "      <td>current loans paid</td>\n",
       "      <td>radio/television</td>\n",
       "      <td>5951</td>\n",
       "      <td>&lt; 100 DM</td>\n",
       "      <td>1 - 4 years</td>\n",
       "      <td>2</td>\n",
       "      <td>female-divorced/separated/married</td>\n",
       "      <td>none</td>\n",
       "      <td>...</td>\n",
       "      <td>real estate</td>\n",
       "      <td>22</td>\n",
       "      <td>none</td>\n",
       "      <td>own</td>\n",
       "      <td>1</td>\n",
       "      <td>skilled</td>\n",
       "      <td>1</td>\n",
       "      <td>none</td>\n",
       "      <td>yes</td>\n",
       "      <td>1</td>\n",
       "    </tr>\n",
       "    <tr>\n",
       "      <th>2</th>\n",
       "      <td>none</td>\n",
       "      <td>12</td>\n",
       "      <td>critical account - other non-bank loans</td>\n",
       "      <td>education</td>\n",
       "      <td>2096</td>\n",
       "      <td>&lt; 100 DM</td>\n",
       "      <td>4 - 7 years</td>\n",
       "      <td>2</td>\n",
       "      <td>male-single</td>\n",
       "      <td>none</td>\n",
       "      <td>...</td>\n",
       "      <td>real estate</td>\n",
       "      <td>49</td>\n",
       "      <td>none</td>\n",
       "      <td>own</td>\n",
       "      <td>1</td>\n",
       "      <td>unskilled-resident</td>\n",
       "      <td>2</td>\n",
       "      <td>none</td>\n",
       "      <td>yes</td>\n",
       "      <td>0</td>\n",
       "    </tr>\n",
       "    <tr>\n",
       "      <th>3</th>\n",
       "      <td>&lt; 0 DM</td>\n",
       "      <td>42</td>\n",
       "      <td>current loans paid</td>\n",
       "      <td>furniture/equipment</td>\n",
       "      <td>7882</td>\n",
       "      <td>&lt; 100 DM</td>\n",
       "      <td>4 - 7 years</td>\n",
       "      <td>2</td>\n",
       "      <td>male-single</td>\n",
       "      <td>guarantor</td>\n",
       "      <td>...</td>\n",
       "      <td>building society savings/life insurance</td>\n",
       "      <td>45</td>\n",
       "      <td>none</td>\n",
       "      <td>for free</td>\n",
       "      <td>1</td>\n",
       "      <td>skilled</td>\n",
       "      <td>2</td>\n",
       "      <td>none</td>\n",
       "      <td>yes</td>\n",
       "      <td>0</td>\n",
       "    </tr>\n",
       "    <tr>\n",
       "      <th>4</th>\n",
       "      <td>&lt; 0 DM</td>\n",
       "      <td>24</td>\n",
       "      <td>past payment delays</td>\n",
       "      <td>car (new)</td>\n",
       "      <td>4870</td>\n",
       "      <td>&lt; 100 DM</td>\n",
       "      <td>1 - 4 years</td>\n",
       "      <td>3</td>\n",
       "      <td>male-single</td>\n",
       "      <td>none</td>\n",
       "      <td>...</td>\n",
       "      <td>unknown-none</td>\n",
       "      <td>53</td>\n",
       "      <td>none</td>\n",
       "      <td>for free</td>\n",
       "      <td>2</td>\n",
       "      <td>skilled</td>\n",
       "      <td>2</td>\n",
       "      <td>none</td>\n",
       "      <td>yes</td>\n",
       "      <td>1</td>\n",
       "    </tr>\n",
       "  </tbody>\n",
       "</table>\n",
       "<p>5 rows × 21 columns</p>\n",
       "</div>"
      ],
      "text/plain": [
       "  checking_account_status  loan_duration_mo  \\\n",
       "0                  < 0 DM                 6   \n",
       "1              0 - 200 DM                48   \n",
       "2                    none                12   \n",
       "3                  < 0 DM                42   \n",
       "4                  < 0 DM                24   \n",
       "\n",
       "                            credit_history              purpose  loan_amount  \\\n",
       "0  critical account - other non-bank loans     radio/television         1169   \n",
       "1                       current loans paid     radio/television         5951   \n",
       "2  critical account - other non-bank loans            education         2096   \n",
       "3                       current loans paid  furniture/equipment         7882   \n",
       "4                      past payment delays            car (new)         4870   \n",
       "\n",
       "  savings_account_balance time_employed_yrs  payment_pcnt_income  \\\n",
       "0            unknown/none        >= 7 years                    4   \n",
       "1                < 100 DM       1 - 4 years                    2   \n",
       "2                < 100 DM       4 - 7 years                    2   \n",
       "3                < 100 DM       4 - 7 years                    2   \n",
       "4                < 100 DM       1 - 4 years                    3   \n",
       "\n",
       "                       gender_status other_signators    ...      \\\n",
       "0                        male-single            none    ...       \n",
       "1  female-divorced/separated/married            none    ...       \n",
       "2                        male-single            none    ...       \n",
       "3                        male-single       guarantor    ...       \n",
       "4                        male-single            none    ...       \n",
       "\n",
       "                                  property age_yrs  other_credit_outstanding  \\\n",
       "0                              real estate      67                      none   \n",
       "1                              real estate      22                      none   \n",
       "2                              real estate      49                      none   \n",
       "3  building society savings/life insurance      45                      none   \n",
       "4                             unknown-none      53                      none   \n",
       "\n",
       "  home_ownership number_loans        job_category dependents  telephone  \\\n",
       "0            own            2             skilled          1        yes   \n",
       "1            own            1             skilled          1       none   \n",
       "2            own            1  unskilled-resident          2       none   \n",
       "3       for free            1             skilled          2       none   \n",
       "4       for free            2             skilled          2       none   \n",
       "\n",
       "  foreign_worker bad_credit  \n",
       "0            yes          0  \n",
       "1            yes          1  \n",
       "2            yes          0  \n",
       "3            yes          0  \n",
       "4            yes          1  \n",
       "\n",
       "[5 rows x 21 columns]"
      ]
     },
     "execution_count": 5,
     "metadata": {},
     "output_type": "execute_result"
    }
   ],
   "source": [
    "code_list = [['checking_account_status', \n",
    "              {'A11' : '< 0 DM', \n",
    "               'A12' : '0 - 200 DM', \n",
    "               'A13' : '> 200 DM or salary assignment', \n",
    "               'A14' : 'none'}],\n",
    "            ['credit_history',\n",
    "            {'A30' : 'no credit - paid', \n",
    "             'A31' : 'all loans at bank paid', \n",
    "             'A32' : 'current loans paid', \n",
    "             'A33' : 'past payment delays', \n",
    "             'A34' : 'critical account - other non-bank loans'}],\n",
    "            ['purpose',\n",
    "            {'A40' : 'car (new)', \n",
    "             'A41' : 'car (used)',\n",
    "             'A42' : 'furniture/equipment',\n",
    "             'A43' : 'radio/television', \n",
    "             'A44' : 'domestic appliances', \n",
    "             'A45' : 'repairs', \n",
    "             'A46' : 'education', \n",
    "             'A47' : 'vacation',\n",
    "             'A48' : 'retraining',\n",
    "             'A49' : 'business', \n",
    "             'A410' : 'other' }],\n",
    "            ['savings_account_balance',\n",
    "            {'A61' : '< 100 DM', \n",
    "             'A62' : '100 - 500 DM', \n",
    "             'A63' : '500 - 1000 DM', \n",
    "             'A64' : '>= 1000 DM',\n",
    "             'A65' : 'unknown/none' }],\n",
    "            ['time_employed_yrs',\n",
    "            {'A71' : 'unemployed',\n",
    "             'A72' : '< 1 year', \n",
    "             'A73' : '1 - 4 years', \n",
    "             'A74' : '4 - 7 years', \n",
    "             'A75' : '>= 7 years'}],\n",
    "            ['gender_status',\n",
    "            {'A91' : 'male-divorced/separated', \n",
    "             'A92' : 'female-divorced/separated/married',\n",
    "             'A93' : 'male-single', \n",
    "             'A94' : 'male-married/widowed', \n",
    "             'A95' : 'female-single'}],\n",
    "            ['other_signators',\n",
    "            {'A101' : 'none', \n",
    "             'A102' : 'co-applicant', \n",
    "             'A103' : 'guarantor'}],\n",
    "            ['property',\n",
    "            {'A121' : 'real estate',\n",
    "             'A122' : 'building society savings/life insurance', \n",
    "             'A123' : 'car or other',\n",
    "             'A124' : 'unknown-none' }],\n",
    "            ['other_credit_outstanding',\n",
    "            {'A141' : 'bank', \n",
    "             'A142' : 'stores', \n",
    "             'A143' : 'none'}],\n",
    "             ['home_ownership',\n",
    "            {'A151' : 'rent', \n",
    "             'A152' : 'own', \n",
    "             'A153' : 'for free'}],\n",
    "            ['job_category',\n",
    "            {'A171' : 'unemployed-unskilled-non-resident', \n",
    "             'A172' : 'unskilled-resident', \n",
    "             'A173' : 'skilled',\n",
    "             'A174' : 'highly skilled'}],\n",
    "            ['telephone', \n",
    "            {'A191' : 'none', \n",
    "             'A192' : 'yes'}],\n",
    "            ['foreign_worker',\n",
    "            {'A201' : 'yes', \n",
    "             'A202' : 'no'}],\n",
    "            ['bad_credit',\n",
    "            {2 : 1,\n",
    "             1 : 0}]]\n",
    "\n",
    "for col_dic in code_list:\n",
    "    col = col_dic[0]\n",
    "    dic = col_dic[1]\n",
    "    credit[col] = [dic[x] for x in credit[col]]\n",
    "    \n",
    "credit.head()    "
   ]
  },
  {
   "cell_type": "markdown",
   "metadata": {},
   "source": [
    "The categorical features now have meaningful coding. Additionally, the label is now coded as a binary variable. "
   ]
  },
  {
   "cell_type": "markdown",
   "metadata": {},
   "source": [
    "## Examine classes and class imbalance\n",
    "\n",
    "In this case, the label has significant **class imbalance**. Class imbalance means that there are  unequal numbers of cases for the categories of the label. Class imbalance can seriously bias the training of classifier algorithms. It many cases, the imbalance leads to a higher error rate for the minority class. Most real-world classification problems have class imbalance, sometimes severe class imbalance, so it is important to test for this before training any model. \n",
    "\n",
    "Fortunately, it is easy to test for class imbalance using a frequency table. Execute the code in the cell below to display a frequency table of the classes: "
   ]
  },
  {
   "cell_type": "code",
   "execution_count": 6,
   "metadata": {},
   "outputs": [
    {
     "name": "stdout",
     "output_type": "stream",
     "text": [
      "0    700\n",
      "1    300\n",
      "Name: bad_credit, dtype: int64\n"
     ]
    }
   ],
   "source": [
    "credit_counts = credit['bad_credit'].value_counts()\n",
    "print(credit_counts)"
   ]
  },
  {
   "cell_type": "code",
   "execution_count": 7,
   "metadata": {},
   "outputs": [
    {
     "data": {
      "text/plain": [
       "Index(['checking_account_status', 'loan_duration_mo', 'credit_history',\n",
       "       'purpose', 'loan_amount', 'savings_account_balance',\n",
       "       'time_employed_yrs', 'payment_pcnt_income', 'gender_status',\n",
       "       'other_signators', 'time_in_residence', 'property', 'age_yrs',\n",
       "       'other_credit_outstanding', 'home_ownership', 'number_loans',\n",
       "       'job_category', 'dependents', 'telephone', 'foreign_worker',\n",
       "       'bad_credit'],\n",
       "      dtype='object')"
      ]
     },
     "execution_count": 7,
     "metadata": {},
     "output_type": "execute_result"
    }
   ],
   "source": [
    "credit.columns"
   ]
  },
  {
   "cell_type": "code",
   "execution_count": 8,
   "metadata": {},
   "outputs": [],
   "source": [
    "credit['dummy'] = np.ones(shape=credit.shape[0])"
   ]
  },
  {
   "cell_type": "code",
   "execution_count": 9,
   "metadata": {},
   "outputs": [
    {
     "data": {
      "text/html": [
       "<div>\n",
       "<style scoped>\n",
       "    .dataframe tbody tr th:only-of-type {\n",
       "        vertical-align: middle;\n",
       "    }\n",
       "\n",
       "    .dataframe tbody tr th {\n",
       "        vertical-align: top;\n",
       "    }\n",
       "\n",
       "    .dataframe thead th {\n",
       "        text-align: right;\n",
       "    }\n",
       "</style>\n",
       "<table border=\"1\" class=\"dataframe\">\n",
       "  <thead>\n",
       "    <tr style=\"text-align: right;\">\n",
       "      <th></th>\n",
       "      <th>checking_account_status</th>\n",
       "      <th>loan_duration_mo</th>\n",
       "      <th>credit_history</th>\n",
       "      <th>purpose</th>\n",
       "      <th>loan_amount</th>\n",
       "      <th>savings_account_balance</th>\n",
       "      <th>time_employed_yrs</th>\n",
       "      <th>payment_pcnt_income</th>\n",
       "      <th>gender_status</th>\n",
       "      <th>other_signators</th>\n",
       "      <th>...</th>\n",
       "      <th>age_yrs</th>\n",
       "      <th>other_credit_outstanding</th>\n",
       "      <th>home_ownership</th>\n",
       "      <th>number_loans</th>\n",
       "      <th>job_category</th>\n",
       "      <th>dependents</th>\n",
       "      <th>telephone</th>\n",
       "      <th>foreign_worker</th>\n",
       "      <th>bad_credit</th>\n",
       "      <th>dummy</th>\n",
       "    </tr>\n",
       "  </thead>\n",
       "  <tbody>\n",
       "    <tr>\n",
       "      <th>0</th>\n",
       "      <td>&lt; 0 DM</td>\n",
       "      <td>6</td>\n",
       "      <td>critical account - other non-bank loans</td>\n",
       "      <td>radio/television</td>\n",
       "      <td>1169</td>\n",
       "      <td>unknown/none</td>\n",
       "      <td>&gt;= 7 years</td>\n",
       "      <td>4</td>\n",
       "      <td>male-single</td>\n",
       "      <td>none</td>\n",
       "      <td>...</td>\n",
       "      <td>67</td>\n",
       "      <td>none</td>\n",
       "      <td>own</td>\n",
       "      <td>2</td>\n",
       "      <td>skilled</td>\n",
       "      <td>1</td>\n",
       "      <td>yes</td>\n",
       "      <td>yes</td>\n",
       "      <td>0</td>\n",
       "      <td>1.0</td>\n",
       "    </tr>\n",
       "    <tr>\n",
       "      <th>1</th>\n",
       "      <td>0 - 200 DM</td>\n",
       "      <td>48</td>\n",
       "      <td>current loans paid</td>\n",
       "      <td>radio/television</td>\n",
       "      <td>5951</td>\n",
       "      <td>&lt; 100 DM</td>\n",
       "      <td>1 - 4 years</td>\n",
       "      <td>2</td>\n",
       "      <td>female-divorced/separated/married</td>\n",
       "      <td>none</td>\n",
       "      <td>...</td>\n",
       "      <td>22</td>\n",
       "      <td>none</td>\n",
       "      <td>own</td>\n",
       "      <td>1</td>\n",
       "      <td>skilled</td>\n",
       "      <td>1</td>\n",
       "      <td>none</td>\n",
       "      <td>yes</td>\n",
       "      <td>1</td>\n",
       "      <td>1.0</td>\n",
       "    </tr>\n",
       "    <tr>\n",
       "      <th>2</th>\n",
       "      <td>none</td>\n",
       "      <td>12</td>\n",
       "      <td>critical account - other non-bank loans</td>\n",
       "      <td>education</td>\n",
       "      <td>2096</td>\n",
       "      <td>&lt; 100 DM</td>\n",
       "      <td>4 - 7 years</td>\n",
       "      <td>2</td>\n",
       "      <td>male-single</td>\n",
       "      <td>none</td>\n",
       "      <td>...</td>\n",
       "      <td>49</td>\n",
       "      <td>none</td>\n",
       "      <td>own</td>\n",
       "      <td>1</td>\n",
       "      <td>unskilled-resident</td>\n",
       "      <td>2</td>\n",
       "      <td>none</td>\n",
       "      <td>yes</td>\n",
       "      <td>0</td>\n",
       "      <td>1.0</td>\n",
       "    </tr>\n",
       "    <tr>\n",
       "      <th>3</th>\n",
       "      <td>&lt; 0 DM</td>\n",
       "      <td>42</td>\n",
       "      <td>current loans paid</td>\n",
       "      <td>furniture/equipment</td>\n",
       "      <td>7882</td>\n",
       "      <td>&lt; 100 DM</td>\n",
       "      <td>4 - 7 years</td>\n",
       "      <td>2</td>\n",
       "      <td>male-single</td>\n",
       "      <td>guarantor</td>\n",
       "      <td>...</td>\n",
       "      <td>45</td>\n",
       "      <td>none</td>\n",
       "      <td>for free</td>\n",
       "      <td>1</td>\n",
       "      <td>skilled</td>\n",
       "      <td>2</td>\n",
       "      <td>none</td>\n",
       "      <td>yes</td>\n",
       "      <td>0</td>\n",
       "      <td>1.0</td>\n",
       "    </tr>\n",
       "    <tr>\n",
       "      <th>4</th>\n",
       "      <td>&lt; 0 DM</td>\n",
       "      <td>24</td>\n",
       "      <td>past payment delays</td>\n",
       "      <td>car (new)</td>\n",
       "      <td>4870</td>\n",
       "      <td>&lt; 100 DM</td>\n",
       "      <td>1 - 4 years</td>\n",
       "      <td>3</td>\n",
       "      <td>male-single</td>\n",
       "      <td>none</td>\n",
       "      <td>...</td>\n",
       "      <td>53</td>\n",
       "      <td>none</td>\n",
       "      <td>for free</td>\n",
       "      <td>2</td>\n",
       "      <td>skilled</td>\n",
       "      <td>2</td>\n",
       "      <td>none</td>\n",
       "      <td>yes</td>\n",
       "      <td>1</td>\n",
       "      <td>1.0</td>\n",
       "    </tr>\n",
       "  </tbody>\n",
       "</table>\n",
       "<p>5 rows × 22 columns</p>\n",
       "</div>"
      ],
      "text/plain": [
       "  checking_account_status  loan_duration_mo  \\\n",
       "0                  < 0 DM                 6   \n",
       "1              0 - 200 DM                48   \n",
       "2                    none                12   \n",
       "3                  < 0 DM                42   \n",
       "4                  < 0 DM                24   \n",
       "\n",
       "                            credit_history              purpose  loan_amount  \\\n",
       "0  critical account - other non-bank loans     radio/television         1169   \n",
       "1                       current loans paid     radio/television         5951   \n",
       "2  critical account - other non-bank loans            education         2096   \n",
       "3                       current loans paid  furniture/equipment         7882   \n",
       "4                      past payment delays            car (new)         4870   \n",
       "\n",
       "  savings_account_balance time_employed_yrs  payment_pcnt_income  \\\n",
       "0            unknown/none        >= 7 years                    4   \n",
       "1                < 100 DM       1 - 4 years                    2   \n",
       "2                < 100 DM       4 - 7 years                    2   \n",
       "3                < 100 DM       4 - 7 years                    2   \n",
       "4                < 100 DM       1 - 4 years                    3   \n",
       "\n",
       "                       gender_status other_signators  ...   age_yrs  \\\n",
       "0                        male-single            none  ...        67   \n",
       "1  female-divorced/separated/married            none  ...        22   \n",
       "2                        male-single            none  ...        49   \n",
       "3                        male-single       guarantor  ...        45   \n",
       "4                        male-single            none  ...        53   \n",
       "\n",
       "  other_credit_outstanding  home_ownership number_loans        job_category  \\\n",
       "0                     none             own            2             skilled   \n",
       "1                     none             own            1             skilled   \n",
       "2                     none             own            1  unskilled-resident   \n",
       "3                     none        for free            1             skilled   \n",
       "4                     none        for free            2             skilled   \n",
       "\n",
       "   dependents telephone  foreign_worker bad_credit dummy  \n",
       "0           1       yes             yes          0   1.0  \n",
       "1           1      none             yes          1   1.0  \n",
       "2           2      none             yes          0   1.0  \n",
       "3           2      none             yes          0   1.0  \n",
       "4           2      none             yes          1   1.0  \n",
       "\n",
       "[5 rows x 22 columns]"
      ]
     },
     "execution_count": 9,
     "metadata": {},
     "output_type": "execute_result"
    }
   ],
   "source": [
    "credit.head()"
   ]
  },
  {
   "cell_type": "code",
   "execution_count": 10,
   "metadata": {},
   "outputs": [],
   "source": [
    "str_columns = [col for col in credit.columns if (credit[col].dtype == object)]"
   ]
  },
  {
   "cell_type": "code",
   "execution_count": 11,
   "metadata": {},
   "outputs": [
    {
     "data": {
      "image/png": "[encoded data removed]",
      "text/plain": [
       "<Figure size 720x288 with 2 Axes>"
      ]
     },
     "metadata": {
      "needs_background": "light"
     },
     "output_type": "display_data"
    },
    {
     "data": {
      "image/png": "[encoded data removed]",
      "text/plain": [
       "<Figure size 720x288 with 2 Axes>"
      ]
     },
     "metadata": {
      "needs_background": "light"
     },
     "output_type": "display_data"
    },
    {
     "data": {
      "image/png": "[encoded data removed]",
      "text/plain": [
       "<Figure size 720x288 with 2 Axes>"
      ]
     },
     "metadata": {
      "needs_background": "light"
     },
     "output_type": "display_data"
    },
    {
     "data": {
      "image/png": "[encoded data removed]",
      "text/plain": [
       "<Figure size 720x288 with 2 Axes>"
      ]
     },
     "metadata": {
      "needs_background": "light"
     },
     "output_type": "display_data"
    },
    {
     "data": {
      "image/png": "[encoded data removed]",
      "text/plain": [
       "<Figure size 720x288 with 2 Axes>"
      ]
     },
     "metadata": {
      "needs_background": "light"
     },
     "output_type": "display_data"
    },
    {
     "data": {
      "image/png": "[encoded data removed]",
      "text/plain": [
       "<Figure size 720x288 with 2 Axes>"
      ]
     },
     "metadata": {
      "needs_background": "light"
     },
     "output_type": "display_data"
    },
    {
     "data": {
      "image/png": "[encoded data removed]",
      "text/plain": [
       "<Figure size 720x288 with 2 Axes>"
      ]
     },
     "metadata": {
      "needs_background": "light"
     },
     "output_type": "display_data"
    },
    {
     "data": {
      "image/png": "[encoded data removed]",
      "text/plain": [
       "<Figure size 720x288 with 2 Axes>"
      ]
     },
     "metadata": {
      "needs_background": "light"
     },
     "output_type": "display_data"
    },
    {
     "data": {
      "image/png": "[encoded data removed]",
      "text/plain": [
       "<Figure size 720x288 with 2 Axes>"
      ]
     },
     "metadata": {
      "needs_background": "light"
     },
     "output_type": "display_data"
    },
    {
     "data": {
      "image/png": "[encoded data removed]",
      "text/plain": [
       "<Figure size 720x288 with 2 Axes>"
      ]
     },
     "metadata": {
      "needs_background": "light"
     },
     "output_type": "display_data"
    },
    {
     "data": {
      "image/png": "[encoded data removed]",
      "text/plain": [
       "<Figure size 720x288 with 2 Axes>"
      ]
     },
     "metadata": {
      "needs_background": "light"
     },
     "output_type": "display_data"
    },
    {
     "data": {
      "image/png": "[encoded data removed]",
      "text/plain": [
       "<Figure size 720x288 with 2 Axes>"
      ]
     },
     "metadata": {
      "needs_background": "light"
     },
     "output_type": "display_data"
    },
    {
     "data": {
      "image/png": "[encoded data removed]",
      "text/plain": [
       "<Figure size 720x288 with 2 Axes>"
      ]
     },
     "metadata": {
      "needs_background": "light"
     },
     "output_type": "display_data"
    }
   ],
   "source": [
    "for col in str_columns:\n",
    "    count = credit[[col,'bad_credit','dummy']].groupby(['bad_credit',col],as_index=False).count()\n",
    "    temp = count[count['bad_credit']==0][[col,'dummy']]\n",
    "    _ = plt.figure(figsize=(10,4))\n",
    "    plt.subplot(1,2,1)\n",
    "    plt.bar(temp[col], temp.dummy)\n",
    "    plt.xticks(rotation=90)\n",
    "    plt.title('count for good credit ' + col)\n",
    "    plt.ylabel('count')\n",
    "    temp = count[count['bad_credit']==1][[col,'dummy']]\n",
    "    plt.subplot(1,2,2)\n",
    "    plt.bar(temp[col],temp.dummy)\n",
    "    plt.xticks(rotation=90)\n",
    "    plt.title('count for bad credit ' + col)\n",
    "    plt.show()\n",
    "    "
   ]
  },
  {
   "cell_type": "code",
   "execution_count": 12,
   "metadata": {},
   "outputs": [
    {
     "data": {
      "image/png": "[encoded data removed]",
      "text/plain": [
       "<Figure size 432x288 with 1 Axes>"
      ]
     },
     "metadata": {},
     "output_type": "display_data"
    },
    {
     "data": {
      "image/png": "[encoded data removed]",
      "text/plain": [
       "<Figure size 432x288 with 1 Axes>"
      ]
     },
     "metadata": {},
     "output_type": "display_data"
    },
    {
     "data": {
      "image/png": "[encoded data removed]",
      "text/plain": [
       "<Figure size 432x288 with 1 Axes>"
      ]
     },
     "metadata": {},
     "output_type": "display_data"
    },
    {
     "data": {
      "image/png": "[encoded data removed]",
      "text/plain": [
       "<Figure size 432x288 with 1 Axes>"
      ]
     },
     "metadata": {},
     "output_type": "display_data"
    },
    {
     "data": {
      "image/png": "[encoded data removed]",
      "text/plain": [
       "<Figure size 432x288 with 1 Axes>"
      ]
     },
     "metadata": {},
     "output_type": "display_data"
    },
    {
     "data": {
      "image/png": "[encoded data removed]",
      "text/plain": [
       "<Figure size 432x288 with 1 Axes>"
      ]
     },
     "metadata": {},
     "output_type": "display_data"
    }
   ],
   "source": [
    "def plot_box(credit, cols, col_x = 'bad_credit'):\n",
    "    for col in cols:\n",
    "        sns.set_style(\"whitegrid\")\n",
    "        sns.boxplot(col_x, col, data=credit)\n",
    "        plt.xlabel(col_x) # Set text for the x axis\n",
    "        plt.ylabel(col)# Set text for y axis\n",
    "        plt.show()\n",
    "\n",
    "num_cols = ['loan_duration_mo', 'loan_amount', 'payment_pcnt_income',\n",
    "            'age_yrs', 'number_loans', 'dependents']\n",
    "plot_box(credit, num_cols)\n",
    "\n",
    "#credit.loan_duration_mo.dtype"
   ]
  },
  {
   "cell_type": "code",
   "execution_count": 13,
   "metadata": {},
   "outputs": [],
   "source": [
    "categorical_columns = ['credit_history', 'purpose', 'gender_status', \n",
    "                       'time_in_residence', 'property']\n",
    "numeric_columns = ['loan_duration_mo', 'loan_amount', \n",
    "                            'payment_pcnt_income', 'age_yrs']"
   ]
  },
  {
   "cell_type": "code",
   "execution_count": 14,
   "metadata": {},
   "outputs": [
    {
     "name": "stdout",
     "output_type": "stream",
     "text": [
      "(1000, 31)\n"
     ]
    },
    {
     "data": {
      "text/plain": [
       "array([[0., 1., 0., 0., 0., 1., 0., 0., 0., 0., 0., 0., 0., 0., 0., 0.,\n",
       "        1., 0., 0., 0., 0., 0., 1., 0., 0., 0., 1., 0., 0., 1., 0.],\n",
       "       [1., 0., 0., 0., 0., 0., 1., 0., 0., 0., 0., 0., 0., 0., 0., 0.,\n",
       "        1., 0., 0., 1., 0., 0., 0., 0., 1., 0., 0., 0., 0., 1., 0.]])"
      ]
     },
     "execution_count": 14,
     "metadata": {},
     "output_type": "execute_result"
    }
   ],
   "source": [
    "def encoder(column,credit):\n",
    "        enc = preprocessing.LabelEncoder()\n",
    "        enc.fit(credit[column])\n",
    "        Features = enc.transform(credit[column])\n",
    "        #Features\n",
    "\n",
    "        ohe = preprocessing.OneHotEncoder()\n",
    "        encoder = ohe.fit(Features.reshape(-1,1))\n",
    "        Features = encoder.transform(Features.reshape(-1,1)).toarray()\n",
    "        return Features\n",
    "        \n",
    "categorical_columns = ['credit_history', 'purpose', 'gender_status', \n",
    "                       'time_in_residence', 'property']\n",
    "\n",
    "Features = encoder('checking_account_status',credit)\n",
    "\n",
    "for col in categorical_columns:\n",
    "    temp = encoder(col,credit)\n",
    "    Features = np.concatenate([Features, temp], axis = 1)\n",
    "\n",
    "print(Features.shape)\n",
    "Features[:2,:]\n",
    "#Features.dtype\n"
   ]
  },
  {
   "cell_type": "code",
   "execution_count": 15,
   "metadata": {},
   "outputs": [
    {
     "data": {
      "text/plain": [
       "array([[   6, 1169,    4,   67],\n",
       "       [  48, 5951,    2,   22],\n",
       "       [  12, 2096,    2,   49],\n",
       "       ...,\n",
       "       [  12,  804,    4,   38],\n",
       "       [  45, 1845,    4,   23],\n",
       "       [  45, 4576,    3,   27]])"
      ]
     },
     "execution_count": 15,
     "metadata": {},
     "output_type": "execute_result"
    }
   ],
   "source": [
    "num_features = np.array(credit[['loan_duration_mo','loan_amount','payment_pcnt_income', 'age_yrs']])\n",
    "\n",
    "#num_features = np.array(credit['loan_duration_mo'])\n",
    "num_features.shape\n",
    "num_features\n",
    "#credit[num_features[0]].dtype\n"
   ]
  },
  {
   "cell_type": "code",
   "execution_count": 16,
   "metadata": {},
   "outputs": [
    {
     "name": "stderr",
     "output_type": "stream",
     "text": [
      "/Users/khadarbashashaik/anaconda3/lib/python3.7/site-packages/sklearn/utils/validation.py:475: DataConversionWarning: Data with input dtype int64 was converted to float64 by StandardScaler.\n",
      "  warnings.warn(msg, DataConversionWarning)\n",
      "/Users/khadarbashashaik/anaconda3/lib/python3.7/site-packages/sklearn/utils/validation.py:475: DataConversionWarning: Data with input dtype int64 was converted to float64 by StandardScaler.\n",
      "  warnings.warn(msg, DataConversionWarning)\n"
     ]
    },
    {
     "data": {
      "text/plain": [
       "(1000, 35)"
      ]
     },
     "execution_count": 16,
     "metadata": {},
     "output_type": "execute_result"
    }
   ],
   "source": [
    "scaler = preprocessing.StandardScaler()\n",
    "scaler.fit(num_features)\n",
    "num_features = scaler.transform(num_features)\n",
    "num_features\n",
    "Features = np.concatenate([Features, num_features],axis=1)\n",
    "Features.shape"
   ]
  },
  {
   "cell_type": "code",
   "execution_count": 17,
   "metadata": {},
   "outputs": [],
   "source": [
    "label = np.array(credit.bad_credit)\n",
    "#label"
   ]
  },
  {
   "cell_type": "code",
   "execution_count": 18,
   "metadata": {},
   "outputs": [],
   "source": [
    "xtrain,xtest, ytrain,ytest = ms.train_test_split(Features, label, test_size = 300, random_state=1)\n",
    "#xtrain.shape"
   ]
  },
  {
   "cell_type": "code",
   "execution_count": 19,
   "metadata": {},
   "outputs": [
    {
     "data": {
      "text/plain": [
       "LogisticRegression(C=1.0, class_weight=None, dual=False, fit_intercept=True,\n",
       "          intercept_scaling=1, max_iter=100, multi_class='ovr', n_jobs=1,\n",
       "          penalty='l2', random_state=None, solver='liblinear', tol=0.0001,\n",
       "          verbose=0, warm_start=False)"
      ]
     },
     "execution_count": 19,
     "metadata": {},
     "output_type": "execute_result"
    }
   ],
   "source": [
    "model = LogisticRegression()\n",
    "model.fit(xtrain,ytrain)\n"
   ]
  },
  {
   "cell_type": "code",
   "execution_count": 20,
   "metadata": {},
   "outputs": [],
   "source": [
    "ypredict = model.predict(xtest)\n",
    "#ypredict"
   ]
  },
  {
   "cell_type": "code",
   "execution_count": 21,
   "metadata": {},
   "outputs": [],
   "source": [
    "#ytest"
   ]
  },
  {
   "cell_type": "code",
   "execution_count": 22,
   "metadata": {},
   "outputs": [],
   "source": [
    "ypredictprob = model.predict_proba(xtest)\n",
    "#ypredictprob"
   ]
  },
  {
   "cell_type": "code",
   "execution_count": 23,
   "metadata": {},
   "outputs": [
    {
     "data": {
      "text/plain": [
       "[0, 1, 0, 0, 1, 1, 0, 0, 1, 0, 0, 0, 0, 0, 0]"
      ]
     },
     "execution_count": 23,
     "metadata": {},
     "output_type": "execute_result"
    }
   ],
   "source": [
    "ypredictprobActual = [1  if val > 0.5 else 0 for val in ypredictprob[:,1]]\n",
    "ypredictprobActual[:15]"
   ]
  },
  {
   "cell_type": "code",
   "execution_count": 24,
   "metadata": {},
   "outputs": [],
   "source": [
    "\n",
    "def score(ytest,ypredict):\n",
    "    conf_matrix = confusion_matrix(ytest,ypredict)\n",
    "    metrics = precision_recall_fscore_support(ytest,ypredict)\n",
    "   \n",
    "    \n",
    "    print(\"confusion_matrix\")\n",
    "    print(\"                TruePostive   TrueNegative\")\n",
    "    print(\"ActualPostive %6d\" %conf_matrix[0,0] + \"%12d\"%conf_matrix[0,1])\n",
    "    print(\"ActualNegative %6d\" %conf_matrix[1,0] + \"%12d\"%conf_matrix[1,1])\n",
    "   \n",
    "    print(\"metrics\")\n",
    "    print('           Positive      Negative')\n",
    "    print('Num case   %6d' % metrics[3][0] + '        %6d' % metrics[3][1])\n",
    "    print('Precision  %6.2f' % metrics[0][0] + '        %6.2f' % metrics[0][1])\n",
    "    print('Recall     %6.2f' % metrics[1][0] + '        %6.2f' % metrics[1][1])\n",
    "    print('F1         %6.2f' % metrics[2][0] + '        %6.2f' % metrics[2][1])\n",
    "    \n",
    "    print('macroPrecision  %6.2f' % float((float(metrics[0][0]) + float(metrics[0][1]))/2.0))\n",
    "    print('macroRecall  %6.2f' % float((float(metrics[1][0]) + float(metrics[1][1]))/2.0))\n",
    "    "
   ]
  },
  {
   "cell_type": "code",
   "execution_count": 25,
   "metadata": {},
   "outputs": [
    {
     "name": "stdout",
     "output_type": "stream",
     "text": [
      "confusion_matrix\n",
      "                TruePostive   TrueNegative\n",
      "ActualPostive    197          48\n",
      "ActualNegative     21          34\n",
      "metrics\n",
      "           Positive      Negative\n",
      "Num case      245            55\n",
      "Precision    0.90          0.41\n",
      "Recall       0.80          0.62\n",
      "F1           0.85          0.50\n",
      "macroPrecision    0.66\n",
      "macroRecall    0.71\n"
     ]
    }
   ],
   "source": [
    "score(ypredictprobActual,ytest)"
   ]
  },
  {
   "cell_type": "code",
   "execution_count": 26,
   "metadata": {},
   "outputs": [
    {
     "data": {
      "image/png": "[encoded data removed]",
      "text/plain": [
       "<Figure size 432x288 with 1 Axes>"
      ]
     },
     "metadata": {},
     "output_type": "display_data"
    }
   ],
   "source": [
    "def plot_auc(labels, probs):\n",
    "    ## Compute the false positive rate, true positive rate\n",
    "    ## and threshold along with the AUC\n",
    "    fpr, tpr, threshold = sklm.roc_curve(labels, probs[:,1])\n",
    "    #fpr, tpr, threshold = sklm.roc_curve(labels, probs) = this is wrong way\n",
    "    auc = sklm.auc(fpr, tpr)\n",
    "    \n",
    "    ## Plot the result\n",
    "    plt.title('Receiver Operating Characteristic')\n",
    "    plt.plot(fpr, tpr, color = 'orange', label = 'AUC = %0.2f' % auc)\n",
    "    plt.legend(loc = 'lower right')\n",
    "    plt.plot([0, 1], [0, 1],'r--')\n",
    "    plt.xlim([0, 1])\n",
    "    plt.ylim([0, 1])\n",
    "    plt.ylabel('True Positive Rate')\n",
    "    plt.xlabel('False Positive Rate')\n",
    "    plt.show()\n",
    "    \n",
    "plot_auc(ytest, ypredictprob) \n",
    "#plot_auc(ytest, ypredictprobActual)  = this is wrong way\n"
   ]
  },
  {
   "cell_type": "raw",
   "metadata": {},
   "source": [
    "# now the approach is to improve the model\n",
    "# - Feature selection\n",
    "# - Regularization\n",
    "# - Feature interpretation\n",
    "# - Cross validation - will look into this using classification example"
   ]
  },
  {
   "cell_type": "code",
   "execution_count": 27,
   "metadata": {},
   "outputs": [
    {
     "data": {
      "text/plain": [
       "array([[0.76236453, 0.23763547],\n",
       "       [0.14073184, 0.85926816],\n",
       "       [0.66861433, 0.33138567],\n",
       "       [0.90926294, 0.09073706],\n",
       "       [0.21335765, 0.78664235],\n",
       "       [0.40585733, 0.59414267],\n",
       "       [0.94750757, 0.05249243],\n",
       "       [0.58946499, 0.41053501],\n",
       "       [0.25511093, 0.74488907],\n",
       "       [0.78070811, 0.21929189],\n",
       "       [0.87295573, 0.12704427],\n",
       "       [0.67353291, 0.32646709],\n",
       "       [0.75524899, 0.24475101],\n",
       "       [0.71271321, 0.28728679],\n",
       "       [0.84921695, 0.15078305],\n",
       "       [0.19132139, 0.80867861],\n",
       "       [0.9354341 , 0.0645659 ],\n",
       "       [0.90591807, 0.09408193],\n",
       "       [0.54701293, 0.45298707],\n",
       "       [0.96999755, 0.03000245],\n",
       "       [0.89743408, 0.10256592],\n",
       "       [0.89352359, 0.10647641],\n",
       "       [0.65855366, 0.34144634],\n",
       "       [0.58472849, 0.41527151],\n",
       "       [0.96551946, 0.03448054],\n",
       "       [0.65020211, 0.34979789],\n",
       "       [0.33637903, 0.66362097],\n",
       "       [0.57895137, 0.42104863],\n",
       "       [0.67953884, 0.32046116],\n",
       "       [0.9176908 , 0.0823092 ],\n",
       "       [0.70592543, 0.29407457],\n",
       "       [0.06531288, 0.93468712],\n",
       "       [0.29601715, 0.70398285],\n",
       "       [0.92274335, 0.07725665],\n",
       "       [0.68807191, 0.31192809],\n",
       "       [0.92147576, 0.07852424],\n",
       "       [0.66083508, 0.33916492],\n",
       "       [0.77896815, 0.22103185],\n",
       "       [0.82134511, 0.17865489],\n",
       "       [0.28120407, 0.71879593],\n",
       "       [0.64730992, 0.35269008],\n",
       "       [0.27080881, 0.72919119],\n",
       "       [0.9676102 , 0.0323898 ],\n",
       "       [0.56903049, 0.43096951],\n",
       "       [0.708995  , 0.291005  ],\n",
       "       [0.71727461, 0.28272539],\n",
       "       [0.77597557, 0.22402443],\n",
       "       [0.67228778, 0.32771222],\n",
       "       [0.82788139, 0.17211861],\n",
       "       [0.85169865, 0.14830135],\n",
       "       [0.80891363, 0.19108637],\n",
       "       [0.69508459, 0.30491541],\n",
       "       [0.47199711, 0.52800289],\n",
       "       [0.59474534, 0.40525466],\n",
       "       [0.65371264, 0.34628736],\n",
       "       [0.81593536, 0.18406464],\n",
       "       [0.48815584, 0.51184416],\n",
       "       [0.90526669, 0.09473331],\n",
       "       [0.79547941, 0.20452059],\n",
       "       [0.83684458, 0.16315542],\n",
       "       [0.66385448, 0.33614552],\n",
       "       [0.37226452, 0.62773548],\n",
       "       [0.34248083, 0.65751917],\n",
       "       [0.66638343, 0.33361657],\n",
       "       [0.51935835, 0.48064165],\n",
       "       [0.52297859, 0.47702141],\n",
       "       [0.5288022 , 0.4711978 ],\n",
       "       [0.95317306, 0.04682694],\n",
       "       [0.71419303, 0.28580697],\n",
       "       [0.12979223, 0.87020777],\n",
       "       [0.73202986, 0.26797014],\n",
       "       [0.4793004 , 0.5206996 ],\n",
       "       [0.66149887, 0.33850113],\n",
       "       [0.69222812, 0.30777188],\n",
       "       [0.37219025, 0.62780975],\n",
       "       [0.79313028, 0.20686972],\n",
       "       [0.48442943, 0.51557057],\n",
       "       [0.86583764, 0.13416236],\n",
       "       [0.52697895, 0.47302105],\n",
       "       [0.81979479, 0.18020521],\n",
       "       [0.20792203, 0.79207797],\n",
       "       [0.89297449, 0.10702551],\n",
       "       [0.74172109, 0.25827891],\n",
       "       [0.82606616, 0.17393384],\n",
       "       [0.48519648, 0.51480352],\n",
       "       [0.53210741, 0.46789259],\n",
       "       [0.54784285, 0.45215715],\n",
       "       [0.77186407, 0.22813593],\n",
       "       [0.29650792, 0.70349208],\n",
       "       [0.86890635, 0.13109365],\n",
       "       [0.4852331 , 0.5147669 ],\n",
       "       [0.88251265, 0.11748735],\n",
       "       [0.61627475, 0.38372525],\n",
       "       [0.84410118, 0.15589882],\n",
       "       [0.91968181, 0.08031819],\n",
       "       [0.84872727, 0.15127273],\n",
       "       [0.2181418 , 0.7818582 ],\n",
       "       [0.72156759, 0.27843241],\n",
       "       [0.6190407 , 0.3809593 ],\n",
       "       [0.57950096, 0.42049904],\n",
       "       [0.12367595, 0.87632405],\n",
       "       [0.66379789, 0.33620211],\n",
       "       [0.70034819, 0.29965181],\n",
       "       [0.42606225, 0.57393775],\n",
       "       [0.80229205, 0.19770795],\n",
       "       [0.8329818 , 0.1670182 ],\n",
       "       [0.93181957, 0.06818043],\n",
       "       [0.80386249, 0.19613751],\n",
       "       [0.98167046, 0.01832954],\n",
       "       [0.51510115, 0.48489885],\n",
       "       [0.87514691, 0.12485309],\n",
       "       [0.56804284, 0.43195716],\n",
       "       [0.67928485, 0.32071515],\n",
       "       [0.22484486, 0.77515514],\n",
       "       [0.68525536, 0.31474464],\n",
       "       [0.7072589 , 0.2927411 ],\n",
       "       [0.25048449, 0.74951551],\n",
       "       [0.22249319, 0.77750681],\n",
       "       [0.57585857, 0.42414143],\n",
       "       [0.69897581, 0.30102419],\n",
       "       [0.84372772, 0.15627228],\n",
       "       [0.65507602, 0.34492398],\n",
       "       [0.43329468, 0.56670532],\n",
       "       [0.45691996, 0.54308004],\n",
       "       [0.51310439, 0.48689561],\n",
       "       [0.87999531, 0.12000469],\n",
       "       [0.57289827, 0.42710173],\n",
       "       [0.84681696, 0.15318304],\n",
       "       [0.3956416 , 0.6043584 ],\n",
       "       [0.90739887, 0.09260113],\n",
       "       [0.32604786, 0.67395214],\n",
       "       [0.84633308, 0.15366692],\n",
       "       [0.57146915, 0.42853085],\n",
       "       [0.95676326, 0.04323674],\n",
       "       [0.9017574 , 0.0982426 ],\n",
       "       [0.92018055, 0.07981945],\n",
       "       [0.82982222, 0.17017778],\n",
       "       [0.82432727, 0.17567273],\n",
       "       [0.46312036, 0.53687964],\n",
       "       [0.98188048, 0.01811952],\n",
       "       [0.70350058, 0.29649942],\n",
       "       [0.92516562, 0.07483438],\n",
       "       [0.26980876, 0.73019124],\n",
       "       [0.92460119, 0.07539881],\n",
       "       [0.66111988, 0.33888012],\n",
       "       [0.81529977, 0.18470023],\n",
       "       [0.77095985, 0.22904015],\n",
       "       [0.9640943 , 0.0359057 ],\n",
       "       [0.47528816, 0.52471184],\n",
       "       [0.91658579, 0.08341421],\n",
       "       [0.71774165, 0.28225835],\n",
       "       [0.53839683, 0.46160317],\n",
       "       [0.92015465, 0.07984535],\n",
       "       [0.43124381, 0.56875619],\n",
       "       [0.75926778, 0.24073222],\n",
       "       [0.33315971, 0.66684029],\n",
       "       [0.56856802, 0.43143198],\n",
       "       [0.52848608, 0.47151392],\n",
       "       [0.72340987, 0.27659013],\n",
       "       [0.34505509, 0.65494491],\n",
       "       [0.5643287 , 0.4356713 ],\n",
       "       [0.54135998, 0.45864002],\n",
       "       [0.8228632 , 0.1771368 ],\n",
       "       [0.45285654, 0.54714346],\n",
       "       [0.17922349, 0.82077651],\n",
       "       [0.50343167, 0.49656833],\n",
       "       [0.71875084, 0.28124916],\n",
       "       [0.37799608, 0.62200392],\n",
       "       [0.92965573, 0.07034427],\n",
       "       [0.88919998, 0.11080002],\n",
       "       [0.92978793, 0.07021207],\n",
       "       [0.89508929, 0.10491071],\n",
       "       [0.59152431, 0.40847569],\n",
       "       [0.82045277, 0.17954723],\n",
       "       [0.88834894, 0.11165106],\n",
       "       [0.28832021, 0.71167979],\n",
       "       [0.74465568, 0.25534432],\n",
       "       [0.75766365, 0.24233635],\n",
       "       [0.72612703, 0.27387297],\n",
       "       [0.80233074, 0.19766926],\n",
       "       [0.89932719, 0.10067281],\n",
       "       [0.5291652 , 0.4708348 ],\n",
       "       [0.39698703, 0.60301297],\n",
       "       [0.86997145, 0.13002855],\n",
       "       [0.28019848, 0.71980152],\n",
       "       [0.78428521, 0.21571479],\n",
       "       [0.71187774, 0.28812226],\n",
       "       [0.34313815, 0.65686185],\n",
       "       [0.70223078, 0.29776922],\n",
       "       [0.49896832, 0.50103168],\n",
       "       [0.9783463 , 0.0216537 ],\n",
       "       [0.62104097, 0.37895903],\n",
       "       [0.87097407, 0.12902593],\n",
       "       [0.87349451, 0.12650549],\n",
       "       [0.82309076, 0.17690924],\n",
       "       [0.94367528, 0.05632472],\n",
       "       [0.54015803, 0.45984197],\n",
       "       [0.91207391, 0.08792609],\n",
       "       [0.93883541, 0.06116459],\n",
       "       [0.55870609, 0.44129391],\n",
       "       [0.90481144, 0.09518856],\n",
       "       [0.80759889, 0.19240111],\n",
       "       [0.68674091, 0.31325909],\n",
       "       [0.73938614, 0.26061386],\n",
       "       [0.82156613, 0.17843387],\n",
       "       [0.45750795, 0.54249205],\n",
       "       [0.83319442, 0.16680558],\n",
       "       [0.8856372 , 0.1143628 ],\n",
       "       [0.32484628, 0.67515372],\n",
       "       [0.69247661, 0.30752339],\n",
       "       [0.94169021, 0.05830979],\n",
       "       [0.64307516, 0.35692484],\n",
       "       [0.2792181 , 0.7207819 ],\n",
       "       [0.87925945, 0.12074055],\n",
       "       [0.70951298, 0.29048702],\n",
       "       [0.32460546, 0.67539454],\n",
       "       [0.96675258, 0.03324742],\n",
       "       [0.80254942, 0.19745058],\n",
       "       [0.19887196, 0.80112804],\n",
       "       [0.75006082, 0.24993918],\n",
       "       [0.8847747 , 0.1152253 ],\n",
       "       [0.61147648, 0.38852352],\n",
       "       [0.90539634, 0.09460366],\n",
       "       [0.76681472, 0.23318528],\n",
       "       [0.42197737, 0.57802263],\n",
       "       [0.92907365, 0.07092635],\n",
       "       [0.53150161, 0.46849839],\n",
       "       [0.29409393, 0.70590607],\n",
       "       [0.34839306, 0.65160694],\n",
       "       [0.6994138 , 0.3005862 ],\n",
       "       [0.76163589, 0.23836411],\n",
       "       [0.62968106, 0.37031894],\n",
       "       [0.64697085, 0.35302915],\n",
       "       [0.38641156, 0.61358844],\n",
       "       [0.69764701, 0.30235299],\n",
       "       [0.83146366, 0.16853634],\n",
       "       [0.49116245, 0.50883755],\n",
       "       [0.87500548, 0.12499452],\n",
       "       [0.73594669, 0.26405331],\n",
       "       [0.79563489, 0.20436511],\n",
       "       [0.71249352, 0.28750648],\n",
       "       [0.84342475, 0.15657525],\n",
       "       [0.7318335 , 0.2681665 ],\n",
       "       [0.77900886, 0.22099114],\n",
       "       [0.29138656, 0.70861344],\n",
       "       [0.68342482, 0.31657518],\n",
       "       [0.59664329, 0.40335671],\n",
       "       [0.88189982, 0.11810018],\n",
       "       [0.82858099, 0.17141901],\n",
       "       [0.4492658 , 0.5507342 ],\n",
       "       [0.3089798 , 0.6910202 ],\n",
       "       [0.59005594, 0.40994406],\n",
       "       [0.69327098, 0.30672902],\n",
       "       [0.63842191, 0.36157809],\n",
       "       [0.47087248, 0.52912752],\n",
       "       [0.33101417, 0.66898583],\n",
       "       [0.38259147, 0.61740853],\n",
       "       [0.27099666, 0.72900334],\n",
       "       [0.84579368, 0.15420632],\n",
       "       [0.75883965, 0.24116035],\n",
       "       [0.6005848 , 0.3994152 ],\n",
       "       [0.90171739, 0.09828261],\n",
       "       [0.92330119, 0.07669881],\n",
       "       [0.94744102, 0.05255898],\n",
       "       [0.94765581, 0.05234419],\n",
       "       [0.8368809 , 0.1631191 ],\n",
       "       [0.3915717 , 0.6084283 ],\n",
       "       [0.82128194, 0.17871806],\n",
       "       [0.85391799, 0.14608201],\n",
       "       [0.62928173, 0.37071827],\n",
       "       [0.78658369, 0.21341631],\n",
       "       [0.94458413, 0.05541587],\n",
       "       [0.212348  , 0.787652  ],\n",
       "       [0.71325265, 0.28674735],\n",
       "       [0.73314205, 0.26685795],\n",
       "       [0.84139139, 0.15860861],\n",
       "       [0.84887893, 0.15112107],\n",
       "       [0.23028426, 0.76971574],\n",
       "       [0.6486273 , 0.3513727 ],\n",
       "       [0.7041932 , 0.2958068 ],\n",
       "       [0.92565668, 0.07434332],\n",
       "       [0.8508718 , 0.1491282 ],\n",
       "       [0.30272135, 0.69727865],\n",
       "       [0.3172557 , 0.6827443 ],\n",
       "       [0.43836737, 0.56163263],\n",
       "       [0.51460041, 0.48539959],\n",
       "       [0.94751475, 0.05248525],\n",
       "       [0.96704867, 0.03295133],\n",
       "       [0.61869831, 0.38130169],\n",
       "       [0.74554552, 0.25445448],\n",
       "       [0.45281265, 0.54718735],\n",
       "       [0.92737538, 0.07262462],\n",
       "       [0.95911677, 0.04088323],\n",
       "       [0.82478054, 0.17521946],\n",
       "       [0.54631896, 0.45368104],\n",
       "       [0.64384742, 0.35615258],\n",
       "       [0.89780909, 0.10219091],\n",
       "       [0.88385104, 0.11614896],\n",
       "       [0.83031991, 0.16968009],\n",
       "       [0.83717701, 0.16282299]])"
      ]
     },
     "execution_count": 27,
     "metadata": {},
     "output_type": "execute_result"
    }
   ],
   "source": [
    "model_weighted = LogisticRegression(C=1,class_weight={0:0.45,1:0.55})\n",
    "model_weighted.fit(xtrain,ytrain)\n",
    "ypredict_weighted_prob = model_weighted.predict_proba(xtest)\n",
    "ypredict_weighted_prob"
   ]
  },
  {
   "cell_type": "code",
   "execution_count": 28,
   "metadata": {},
   "outputs": [
    {
     "data": {
      "text/plain": [
       "[0, 1, 0, 0, 1, 1, 0, 0, 1, 0, 0, 0, 0, 0, 0]"
      ]
     },
     "execution_count": 28,
     "metadata": {},
     "output_type": "execute_result"
    }
   ],
   "source": [
    "ypredict_weighted_actual = [1 if val >0.5 else 0 for val in ypredict_weighted_prob[:,1]]\n",
    "ypredict_weighted_actual[:15]"
   ]
  },
  {
   "cell_type": "code",
   "execution_count": 29,
   "metadata": {},
   "outputs": [
    {
     "name": "stdout",
     "output_type": "stream",
     "text": [
      "[[190  28]\n",
      " [ 40  42]]\n",
      "           positive     negative\n",
      "num case     218         82\n",
      "precision    0.826087   0.600000\n",
      "recall       0.871560   0.512195\n",
      "roc_auc      0.848214   0.552632\n"
     ]
    }
   ],
   "source": [
    "conf_matrix_weighted  = sklm.confusion_matrix(ytest,ypredict_weighted_actual)\n",
    "print(conf_matrix_weighted)\n",
    "\n",
    "metrics = sklm.precision_recall_fscore_support(ytest,ypredict_weighted_actual)\n",
    "\n",
    "print(\"           positive     negative\")\n",
    "print(\"num case     %2d %10d\"%(metrics[3][0],metrics[3][1]))\n",
    "print(\"precision    %2f %10f\"%(metrics[0][0],metrics[0][1]))\n",
    "print(\"recall       %2f %10f\"%(metrics[1][0],metrics[1][1]))\n",
    "print(\"roc_auc      %2f %10f\"%(metrics[2][0],metrics[2][1]))\n"
   ]
  },
  {
   "cell_type": "code",
   "execution_count": 30,
   "metadata": {},
   "outputs": [
    {
     "data": {
      "text/plain": [
       "0.797717610203625"
      ]
     },
     "execution_count": 30,
     "metadata": {},
     "output_type": "execute_result"
    }
   ],
   "source": [
    "fpr,tpr,threshold = sklm.roc_curve(ytest, ypredict_weighted_prob[:,1])\n",
    "auc = sklm.auc(fpr,tpr)\n",
    "auc"
   ]
  },
  {
   "cell_type": "code",
   "execution_count": 31,
   "metadata": {},
   "outputs": [],
   "source": [
    "scoring = ['precision_macro','recall_macro','roc_auc']\n",
    "model_CV = LogisticRegression(C=1, class_weight={0:0.45,1:0.55})\n",
    "scores = ms.cross_validate(model_CV,Features,label,scoring=scoring,cv=10,return_train_score=False)"
   ]
  },
  {
   "cell_type": "code",
   "execution_count": 32,
   "metadata": {},
   "outputs": [
    {
     "data": {
      "text/plain": [
       "{'fit_time': array([0.00654387, 0.00256109, 0.00245285, 0.00223112, 0.001652  ,\n",
       "        0.00250006, 0.00218391, 0.0021131 , 0.00349212, 0.00242877]),\n",
       " 'score_time': array([0.00199509, 0.00177193, 0.00171804, 0.00212884, 0.00105333,\n",
       "        0.00140405, 0.00139022, 0.00252271, 0.00181079, 0.00178218]),\n",
       " 'test_precision_macro': array([0.76864035, 0.67179024, 0.71329365, 0.63513514, 0.79605263,\n",
       "        0.74122807, 0.57142857, 0.76864035, 0.68640351, 0.64285714]),\n",
       " 'test_recall_macro': array([0.73333333, 0.63571429, 0.7047619 , 0.62380952, 0.75714286,\n",
       "        0.70952381, 0.57142857, 0.73333333, 0.66190476, 0.64285714]),\n",
       " 'test_roc_auc': array([0.83809524, 0.77714286, 0.80571429, 0.7352381 , 0.83142857,\n",
       "        0.76571429, 0.67571429, 0.84285714, 0.78380952, 0.76047619])}"
      ]
     },
     "execution_count": 32,
     "metadata": {},
     "output_type": "execute_result"
    }
   ],
   "source": [
    "scores"
   ]
  },
  {
   "cell_type": "code",
   "execution_count": 33,
   "metadata": {},
   "outputs": [
    {
     "name": "stdout",
     "output_type": "stream",
     "text": [
      "         Precision     Recall       AUC\n",
      "Fold  1    0.769        0.733      0.838\n",
      "Fold  2    0.672        0.636      0.777\n",
      "Fold  3    0.713        0.705      0.806\n",
      "Fold  4    0.635        0.624      0.735\n",
      "Fold  5    0.796        0.757      0.831\n",
      "Fold  6    0.741        0.710      0.766\n",
      "Fold  7    0.571        0.571      0.676\n",
      "Fold  8    0.769        0.733      0.843\n",
      "Fold  9    0.686        0.662      0.784\n",
      "Fold 10    0.643        0.643      0.760\n",
      "----------------------------------------\n",
      "Mean       0.700        0.677      0.782\n",
      "Std        0.067        0.056      0.049\n"
     ]
    }
   ],
   "source": [
    "def print_format(f,x,y,z):\n",
    "    print('Fold %2d    %4.3f        %4.3f      %4.3f' % (f, x, y, z))\n",
    "\n",
    "def print_cv(scores):\n",
    "    fold = [x + 1 for x in range(len(scores['test_precision_macro']))]\n",
    "    print('         Precision     Recall       AUC')\n",
    "    [print_format(f,x,y,z) for f,x,y,z in zip(fold, scores['test_precision_macro'], \n",
    "                                          scores['test_recall_macro'],\n",
    "                                          scores['test_roc_auc'])]\n",
    "    print('-' * 40)\n",
    "    print('Mean       %4.3f        %4.3f      %4.3f' % \n",
    "          (np.mean(scores['test_precision_macro']), np.mean(scores['test_recall_macro']), np.mean(scores['test_roc_auc'])))  \n",
    "    print('Std        %4.3f        %4.3f      %4.3f' % \n",
    "          (np.std(scores['test_precision_macro']), np.std(scores['test_recall_macro']), np.std(scores['test_roc_auc'])))\n",
    "\n",
    "print_cv(scores)    "
   ]
  },
  {
   "cell_type": "markdown",
   "metadata": {},
   "source": [
    "#nested cross validation"
   ]
  },
  {
   "cell_type": "code",
   "execution_count": 34,
   "metadata": {},
   "outputs": [],
   "source": [
    "inside = ms.KFold(n_splits=10,shuffle=True)\n",
    "outside = ms.KFold(n_splits=10,shuffle=True)"
   ]
  },
  {
   "cell_type": "code",
   "execution_count": 35,
   "metadata": {},
   "outputs": [],
   "source": [
    "param_grid = {'C':[0.1,1,10,100,1000]}\n",
    "log_mod_nested = LogisticRegression(class_weight={0:0.45,1:0.55})\n",
    "clf = ms.GridSearchCV(estimator=log_mod_nested,param_grid=param_grid,cv =inside,scoring='roc_auc',\n",
    "                      return_train_score=True)"
   ]
  },
  {
   "cell_type": "code",
   "execution_count": 36,
   "metadata": {},
   "outputs": [
    {
     "data": {
      "text/plain": [
       "GridSearchCV(cv=KFold(n_splits=10, random_state=None, shuffle=True),\n",
       "       error_score='raise',\n",
       "       estimator=LogisticRegression(C=1.0, class_weight={0: 0.45, 1: 0.55}, dual=False,\n",
       "          fit_intercept=True, intercept_scaling=1, max_iter=100,\n",
       "          multi_class='ovr', n_jobs=1, penalty='l2', random_state=None,\n",
       "          solver='liblinear', tol=0.0001, verbose=0, warm_start=False),\n",
       "       fit_params=None, iid=True, n_jobs=1,\n",
       "       param_grid={'C': [0.1, 1, 10, 100, 1000]}, pre_dispatch='2*n_jobs',\n",
       "       refit=True, return_train_score=True, scoring='roc_auc', verbose=0)"
      ]
     },
     "execution_count": 36,
     "metadata": {},
     "output_type": "execute_result"
    }
   ],
   "source": [
    "clf"
   ]
  },
  {
   "cell_type": "code",
   "execution_count": 37,
   "metadata": {},
   "outputs": [
    {
     "name": "stdout",
     "output_type": "stream",
     "text": [
      "['mean_fit_time', 'std_fit_time', 'mean_score_time', 'std_score_time', 'param_C', 'params', 'split0_test_score', 'split1_test_score', 'split2_test_score', 'split3_test_score', 'split4_test_score', 'split5_test_score', 'split6_test_score', 'split7_test_score', 'split8_test_score', 'split9_test_score', 'mean_test_score', 'std_test_score', 'rank_test_score', 'split0_train_score', 'split1_train_score', 'split2_train_score', 'split3_train_score', 'split4_train_score', 'split5_train_score', 'split6_train_score', 'split7_train_score', 'split8_train_score', 'split9_train_score', 'mean_train_score', 'std_train_score']\n",
      "GridSearchCV(cv=KFold(n_splits=10, random_state=None, shuffle=True),\n",
      "       error_score='raise',\n",
      "       estimator=LogisticRegression(C=1.0, class_weight={0: 0.45, 1: 0.55}, dual=False,\n",
      "          fit_intercept=True, intercept_scaling=1, max_iter=100,\n",
      "          multi_class='ovr', n_jobs=1, penalty='l2', random_state=None,\n",
      "          solver='liblinear', tol=0.0001, verbose=0, warm_start=False),\n",
      "       fit_params=None, iid=True, n_jobs=1,\n",
      "       param_grid={'C': [0.1, 1, 10, 100, 1000]}, pre_dispatch='2*n_jobs',\n",
      "       refit=True, return_train_score=True, scoring='roc_auc', verbose=0)\n",
      "[0.80615385 0.81010989 0.81098901 0.81142857 0.81142857]\n",
      "[0.75190259 0.75900558 0.76306443 0.76407915 0.76407915]\n",
      "[0.84852735 0.84946237 0.84385227 0.84338476 0.84291725]\n",
      "[0.808      0.7904     0.78773333 0.78666667 0.78613333]\n",
      "[0.73518285 0.74190836 0.74064733 0.74190836 0.74190836]\n",
      "[0.75190476 0.75190476 0.75333333 0.75380952 0.75333333]\n",
      "[0.78630515 0.78308824 0.77068015 0.76976103 0.76930147]\n",
      "[0.77185601 0.75362319 0.73679289 0.72510519 0.72417017]\n",
      "[0.77138158 0.77028509 0.7691886  0.7691886  0.7691886 ]\n",
      "[0.72297297 0.73284823 0.73856549 0.73544699 0.73492723]\n"
     ]
    },
    {
     "data": {
      "text/plain": [
       "0.1"
      ]
     },
     "execution_count": 37,
     "metadata": {},
     "output_type": "execute_result"
    }
   ],
   "source": [
    "clf.fit(Features, label)\n",
    "keys = list(clf.cv_results_.keys())\n",
    "print(keys)\n",
    "print(clf)\n",
    "\n",
    "for key in keys[6:16]:\n",
    "    print(clf.cv_results_[key])\n",
    "## And print the best parameter value\n",
    "clf.best_estimator_.C\n",
    "    "
   ]
  },
  {
   "cell_type": "code",
   "execution_count": 39,
   "metadata": {},
   "outputs": [
    {
     "name": "stdout",
     "output_type": "stream",
     "text": [
      "[0.77541871 0.77426357 0.77148468 0.77007788 0.76973875] [0.03601939 0.03348842 0.03272019 0.03416996 0.0342439 ]\n",
      " parameter     mean      std\n",
      "0.1 0.7754187101202489 0.03601938576575541\n",
      " parameter     mean      std\n",
      "1 0.7742635707656069 0.03348841929582266\n",
      " parameter     mean      std\n",
      "10 0.7714846836170117 0.032720185055536206\n",
      " parameter     mean      std\n",
      "100 0.7700778834328815 0.03416996464157675\n",
      " parameter     mean      std\n",
      "1000 0.7697387476631834 0.034243899306613895\n"
     ]
    },
    {
     "data": {
      "text/plain": [
       "0.1"
      ]
     },
     "execution_count": 39,
     "metadata": {},
     "output_type": "execute_result"
    }
   ],
   "source": [
    "grid = np.array([clf.cv_results_[val]for val in keys[6:16]])\n",
    "mean = np.mean(grid,axis=0)\n",
    "std =  np.std(grid,axis=0)\n",
    "print(mean, std)\n",
    "param_grid_type = [param for param in param_grid['C']]\n",
    "for x,y,z in zip(param_grid_type,mean,std):\n",
    "    print(\" parameter     mean      std\")\n",
    "    print(x,y,z)\n",
    "    \n",
    "clf.best_estimator_.C"
   ]
  },
  {
   "cell_type": "code",
   "execution_count": 41,
   "metadata": {},
   "outputs": [
    {
     "name": "stdout",
     "output_type": "stream",
     "text": [
      "0.7792213703069802\n",
      "0.022869743910186868\n"
     ]
    }
   ],
   "source": [
    "cv_estimate = ms.cross_val_score(clf,Features,label,cv=outside)\n",
    "print(np.mean(cv_estimate))\n",
    "print(np.std(cv_estimate)) "
   ]
  },
  {
   "cell_type": "code",
   "execution_count": null,
   "metadata": {},
   "outputs": [],
   "source": [
    "#so we can create a model with parameter C = 0.1 and cross check if auc is increased"
   ]
  },
  {
   "cell_type": "code",
   "execution_count": null,
   "metadata": {},
   "outputs": [],
   "source": []
  },
  {
   "cell_type": "markdown",
   "metadata": {},
   "source": [
    "Notice that only 30% of the cases have bad credit. This is not surprising, since a bank would typically retain customers with good credit. While this is not a cases of severe imbalance, it is enough to bias the training of any model. "
   ]
  },
  {
   "cell_type": "markdown",
   "metadata": {},
   "source": [
    "## Visualize class separation by numeric features\n",
    "\n",
    "As stated previously, the primary goal of visualization for classification problems is to understand which features are useful for class separation. In this section, you will start by visualizing the separation quality of numeric features. \n",
    "\n",
    "Execute the code, examine the results, and answer **Question 1** on the course page."
   ]
  },
  {
   "cell_type": "code",
   "execution_count": null,
   "metadata": {},
   "outputs": [],
   "source": []
  },
  {
   "cell_type": "markdown",
   "metadata": {},
   "source": [
    "How can you interpret these results? Box plots are useful, since by their very construction you are forced to focus on the overlap (or not) of the quartiles of the distribution. In this case, the question is there sufficient differences in the quartiles for the feature to be useful in separation the label classes? The following cases are displayed in the above plots:\n",
    "1. For loan_duration_mo, loan_amount, and payment as a percent of income (payment_pcnt_income), there is useful separation between good and bad credit customers. As one might expect, bad credit customers have longer loan duration on larger loans and with payments being a greater percentage of their income. \n",
    "2. On the other hand, age in years, number_loans and dependents does not seem to matter. In latter two cases, this situation seems to result from the median value being zero. There are just not enough non-zero cases to make these useful features. \n",
    "\n",
    "As an alternative to box plots, you can use violin plots to examine the separation of label cases by numeric features. Execute the code in the cell below and examine the results:"
   ]
  },
  {
   "cell_type": "code",
   "execution_count": null,
   "metadata": {
    "scrolled": false
   },
   "outputs": [],
   "source": []
  },
  {
   "cell_type": "markdown",
   "metadata": {},
   "source": [
    "The interpretation of these plots is largely the same as the box plots. However, there is one detail worth noting. The differences between loan_duration_mo and loan_amount for good and bad credit customers are only for the more extreme values. It may be that these features are less useful and the box plot indicates. "
   ]
  },
  {
   "cell_type": "markdown",
   "metadata": {},
   "source": [
    "## Visualize class separation by categorical features\n",
    "\n",
    "Now you will turn to the problem of visualizing the ability of categorical features to separate classes of the label. Ideally, a categorical feature will have very different counts of the categories for each of the label values. A good way to visualize these relationships is with bar plots.\n",
    "\n",
    "The code in the cell below creates side by side plots of the categorical variables for each of the labels categories. \n",
    "\n",
    "Execute this code, examine the results, and answer **Question 2** on the course page."
   ]
  },
  {
   "cell_type": "code",
   "execution_count": null,
   "metadata": {
    "scrolled": false
   },
   "outputs": [],
   "source": []
  },
  {
   "cell_type": "markdown",
   "metadata": {},
   "source": [
    "There is a lot of information in these plots. The key to interpreting these plots is comparing the proportion of the categories for each of the label values. If these proportions are distinctly different for each label category, the feature is likely to be useful in separating the label.  \n",
    "\n",
    "There are several cases evident in these plots:\n",
    "1. Some features such as checking_account_status and credit_history have significantly different distribution of categories between the label categories. \n",
    "2. Others features such as gender_status and telephone show small differences, but these differences are unlikely to be significant. \n",
    "3. Other features like other_signators, foreign_worker, home_ownership, and job_category have a dominant category with very few cases of other categories. These features will likely have very little power to separate the cases.  \n",
    "\n",
    "Notice that only a few of these categorical features will be useful in separating the cases. "
   ]
  },
  {
   "cell_type": "markdown",
   "metadata": {},
   "source": [
    "## Summary\n",
    "\n",
    "In this lab you have performed exploration and visualization to understand the relationships in a classification dataset. Specifically:\n",
    "1. Examine the imbalance in the label cases using a frequency table. \n",
    "2. Find numeric or categorical features that separate the cases using visualization."
   ]
  },
  {
   "cell_type": "code",
   "execution_count": null,
   "metadata": {},
   "outputs": [],
   "source": []
  }
 ],
 "metadata": {
  "kernelspec": {
   "display_name": "Python 3",
   "language": "python",
   "name": "python3"
  },
  "language_info": {
   "codemirror_mode": {
    "name": "ipython",
    "version": 3
   },
   "file_extension": ".py",
   "mimetype": "text/x-python",
   "name": "python",
   "nbconvert_exporter": "python",
   "pygments_lexer": "ipython3",
   "version": "3.7.0"
  }
 },
 "nbformat": 4,
 "nbformat_minor": 2
}
